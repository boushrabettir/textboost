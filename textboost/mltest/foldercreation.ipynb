{
  "nbformat": 4,
  "nbformat_minor": 0,
  "metadata": {
    "colab": {
      "provenance": []
    },
    "kernelspec": {
      "name": "python3",
      "display_name": "Python 3"
    },
    "language_info": {
      "name": "python"
    }
  },
  "cells": [
    {
      "cell_type": "code",
      "execution_count": null,
      "metadata": {
        "id": "Y7KKa2tTNLjm"
      },
      "outputs": [],
      "source": [
        "# Possibility of getting a folder on their downloads,\n",
        "# and look in that folder and there can be subsections like Downloads/food or\n",
        "# Downloads/makeup or Downloads/clothing etc. And dependent on the context of the\n",
        "# outputted pdf, the machine learning algorithm will place the pdf in their respected folder"
      ]
    },
    {
      "cell_type": "code",
      "source": [
        "import matplotlib.pyplot as plt\n",
        "from sklearn.feature_extraction.text import TfidfVectorizer\n",
        "from sklearn.neighbors import KNeighborsClassifier\n",
        "import tensorflow as tf\n",
        "import os\n",
        "import numpy as np\n",
        "import math\n",
        "from typing import List, Tuple\n",
        "from sklearn.metrics.pairwise import cosine_distances\n",
        "import nltk\n",
        "from nltk.corpus import stopwords\n",
        "from nltk.tokenize import word_tokenize\n",
        "import string\n",
        "from scipy import sparse\n",
        "\n",
        "nltk.download('stopwords')\n",
        "nltk.download('punkt')\n",
        "\n",
        "\n",
        "class KNearestNeighbors:\n",
        "    \"\"\"A class defining the functionality for KNN\"\"\"\n",
        "\n",
        "    def __init__(self, k=1):\n",
        "        self.k = k\n",
        "        self.tdif = TfidfVectorizer()\n",
        "        self.KNN = KNeighborsClassifier(self.k)\n",
        "\n",
        "    def fit_list(self, X, y) -> None:\n",
        "        self.X_train = X\n",
        "        self.y_train = y\n",
        "        self.KNN.fit(self.X_train, self.y_train)\n",
        "\n",
        "    def transform_list(self, X) -> TfidfVectorizer:\n",
        "        self.X_train = X\n",
        "        return self.tdif.fit_transform(self.X_train)\n",
        "\n",
        "    def transform(self, X):\n",
        "        return self.tdif.transform(X)\n",
        "\n",
        "    def predict_outcome(self, i) -> str:\n",
        "      labels = {\n",
        "          0: \"business\",\n",
        "          1: \"entertainment\",\n",
        "          2: \"food\",\n",
        "          3: \"graphics\",\n",
        "          4: \"medical\",\n",
        "          5: \"politics\",\n",
        "          6: \"space\",\n",
        "          7: \"sport\",\n",
        "          8: \"technologie\"\n",
        "      }\n",
        "      print(self.y_train[i])\n",
        "      return labels[self.y_train[i]]\n",
        "\n",
        "    def comparison(self, X_train, input):\n",
        "        \"\"\"Returns the index of the closest vector in X_train to the input vector\"\"\"\n",
        "        transformed_input = self.transform([input])\n",
        "        distances = np.linalg.norm(X_train.toarray() - transformed_input.toarray()**2, axis=1)\n",
        "        closest_index = np.argmin(distances)\n",
        "        print(closest_index)\n",
        "        return closest_index\n",
        "\n",
        "\n"
      ],
      "metadata": {
        "id": "Lj7Wr_J4lYrz",
        "colab": {
          "base_uri": "https://localhost:8080/"
        },
        "outputId": "e7c4f4af-e3ec-43f0-df4b-cbe5589e7152"
      },
      "execution_count": 93,
      "outputs": [
        {
          "output_type": "stream",
          "name": "stderr",
          "text": [
            "[nltk_data] Downloading package stopwords to /root/nltk_data...\n",
            "[nltk_data]   Package stopwords is already up-to-date!\n",
            "[nltk_data] Downloading package punkt to /root/nltk_data...\n",
            "[nltk_data]   Package punkt is already up-to-date!\n"
          ]
        }
      ]
    },
    {
      "cell_type": "code",
      "source": [
        "\n",
        "def unzip_folder() -> None:\n",
        "  !unzip \"/content/archive.zip\" -d \"/content/archive\"\n",
        "\n",
        "\n",
        "def return_list_folders() -> List[str]:\n",
        "  \"\"\"Returns the list of folders\"\"\"\n",
        "  folder_path = \"/archive\"\n",
        "  folder_dir = os.listdir(folder_path)\n",
        "\n",
        "  return folder_dir\n",
        "\n",
        "\n",
        "def label_folders() -> dict:\n",
        "  \"\"\"Labels each folder with their number\"\"\"\n",
        "\n",
        "  labeling_dict = dict()\n",
        "  folder_dir = return_list_folders()\n",
        "  print(folder_dir)\n",
        "  for i, folder in enumerate(folder_dir):\n",
        "    labeling_dict[folder] = i\n",
        "  print(labeling_dict)\n",
        "  return labeling_dict\n",
        "\n",
        "\n",
        "def merge_training_data() -> List[List[Tuple[str, int]]]:\n",
        "  \"\"\"Merges the data together\"\"\"\n",
        "  labeling = label_folders()\n",
        "  folder_path = \"/archive\"\n",
        "  folder_dir = return_list_folders()\n",
        "  all_rows = []\n",
        "\n",
        "  for folder in folder_dir:\n",
        "    curr_file = os.listdir(f\"{folder_path}/{folder}\")\n",
        "    for document in curr_file:\n",
        "      with open(f\"{folder_path}/{folder}/{document}\", \"r\", encoding=\"utf-8\") as file:\n",
        "        all_rows.append([file.read(), labeling[folder]])\n",
        "\n",
        "  return all_rows\n"
      ],
      "metadata": {
        "id": "V4boOHRLqt6-"
      },
      "execution_count": 85,
      "outputs": []
    },
    {
      "cell_type": "code",
      "source": [
        "\n",
        "def split_x_y() -> dict:\n",
        "  \"\"\"Splits data into X_train and y_train\"\"\"\n",
        "\n",
        "  X_train = []\n",
        "  y_train = []\n",
        "  training_data = merge_training_data()\n",
        "\n",
        "  for i in training_data:\n",
        "    X_train.append(i[0])\n",
        "    y_train.append(i[1])\n",
        "\n",
        "  return {\"X_train\": X_train, \"y_train\": y_train}\n",
        "\n",
        "def stop_words_removal(X_train) -> List[str]:\n",
        "  \"\"\"Removes stop words from the corpus and cleans up punctuation\"\"\"\n",
        "\n",
        "\n",
        "  cached_stop_words = stopwords.words(\"english\")\n",
        "\n",
        "  cleaned_texts = []\n",
        "\n",
        "  for text in X_train:\n",
        "      tokens = word_tokenize(text)\n",
        "      cleaned_tokens = [word for word in tokens if word.lower() not in cached_stop_words and word not in string.punctuation]\n",
        "      cleaned_text = \" \".join(cleaned_tokens)\n",
        "      fixed = cleaned_text.translate(str.maketrans('', '', string.punctuation))\n",
        "      cleaned_texts.append(fixed)\n",
        "\n",
        "\n",
        "  return cleaned_texts\n",
        "\n",
        "\n",
        "\n",
        "\n",
        "def main():\n",
        "  knn = KNearestNeighbors(k=1)\n",
        "  # Problem with sizing in y_train vs X_train ( y_train dimensions are incorrect )\n",
        "  training_data = split_x_y()\n",
        "  X_train = training_data[\"X_train\"]\n",
        "  y_train = training_data[\"y_train\"]\n",
        "  X_train_preprocess = stop_words_removal(X_train)\n",
        "\n",
        "  X_train_transformed = knn.transform_list(X_train_preprocess)\n",
        "  knn.fit_list(X_train_transformed, y_train)\n",
        "\n",
        "\n",
        "  # X_train_shape = sparse.csr_matrix(X_train_transformed).shape[0]\n",
        "  # y_train_shape = np.array(y_train).shape[0]\n",
        "\n",
        "  # print(X_train_shape)\n",
        "  # print(y_train_shape)\n",
        "  # plt.scatter(X_train_transformed, y_train)\n",
        "  # plt.xlabel('X_train_transformed')\n",
        "  # plt.ylabel('y_train')\n",
        "  # plt.title('Relationship between X_train_transformed and y_train')\n",
        "  # plt.show()\n",
        "  # test = \"\"\"My food classes are fun. I love food and so do my classmates\"\"\"\n",
        "\n",
        "\n",
        "  # compare = knn.comparison(X_train_transformed, test)\n",
        "  # prediction = knn.predict_outcome(compare)\n",
        "\n",
        "  # print(compare)\n",
        "  # print(prediction)\n",
        "\n",
        "main()\n"
      ],
      "metadata": {
        "colab": {
          "base_uri": "https://localhost:8080/",
          "height": 870
        },
        "id": "UO9llmUSx13l",
        "outputId": "46ae1760-4790-451c-e43c-5464f3a26451"
      },
      "execution_count": 99,
      "outputs": [
        {
          "output_type": "stream",
          "name": "stdout",
          "text": [
            "['graphics', 'historical', 'space', 'entertainment', 'politics', 'sport', 'food', 'business', 'technologie', 'medical']\n",
            "{'graphics': 0, 'historical': 1, 'space': 2, 'entertainment': 3, 'politics': 4, 'sport': 5, 'food': 6, 'business': 7, 'technologie': 8, 'medical': 9}\n",
            "(1000, 31969)\n",
            "(1000,)\n"
          ]
        },
        {
          "output_type": "error",
          "ename": "ValueError",
          "evalue": "ignored",
          "traceback": [
            "\u001b[0;31m---------------------------------------------------------------------------\u001b[0m",
            "\u001b[0;31mValueError\u001b[0m                                Traceback (most recent call last)",
            "\u001b[0;32m<ipython-input-99-64c44e4c80db>\u001b[0m in \u001b[0;36m<cell line: 66>\u001b[0;34m()\u001b[0m\n\u001b[1;32m     64\u001b[0m   \u001b[0;31m# print(prediction)\u001b[0m\u001b[0;34m\u001b[0m\u001b[0;34m\u001b[0m\u001b[0m\n\u001b[1;32m     65\u001b[0m \u001b[0;34m\u001b[0m\u001b[0m\n\u001b[0;32m---> 66\u001b[0;31m \u001b[0mmain\u001b[0m\u001b[0;34m(\u001b[0m\u001b[0;34m)\u001b[0m\u001b[0;34m\u001b[0m\u001b[0;34m\u001b[0m\u001b[0m\n\u001b[0m",
            "\u001b[0;32m<ipython-input-99-64c44e4c80db>\u001b[0m in \u001b[0;36mmain\u001b[0;34m()\u001b[0m\n\u001b[1;32m     50\u001b[0m   \u001b[0mprint\u001b[0m\u001b[0;34m(\u001b[0m\u001b[0mX_train_shape\u001b[0m\u001b[0;34m)\u001b[0m\u001b[0;34m\u001b[0m\u001b[0;34m\u001b[0m\u001b[0m\n\u001b[1;32m     51\u001b[0m   \u001b[0mprint\u001b[0m\u001b[0;34m(\u001b[0m\u001b[0my_train_shape\u001b[0m\u001b[0;34m)\u001b[0m\u001b[0;34m\u001b[0m\u001b[0;34m\u001b[0m\u001b[0m\n\u001b[0;32m---> 52\u001b[0;31m   \u001b[0mplt\u001b[0m\u001b[0;34m.\u001b[0m\u001b[0mscatter\u001b[0m\u001b[0;34m(\u001b[0m\u001b[0mX_train_transformed\u001b[0m\u001b[0;34m,\u001b[0m \u001b[0my_train\u001b[0m\u001b[0;34m)\u001b[0m\u001b[0;34m\u001b[0m\u001b[0;34m\u001b[0m\u001b[0m\n\u001b[0m\u001b[1;32m     53\u001b[0m   \u001b[0mplt\u001b[0m\u001b[0;34m.\u001b[0m\u001b[0mxlabel\u001b[0m\u001b[0;34m(\u001b[0m\u001b[0;34m'X_train_transformed'\u001b[0m\u001b[0;34m)\u001b[0m\u001b[0;34m\u001b[0m\u001b[0;34m\u001b[0m\u001b[0m\n\u001b[1;32m     54\u001b[0m   \u001b[0mplt\u001b[0m\u001b[0;34m.\u001b[0m\u001b[0mylabel\u001b[0m\u001b[0;34m(\u001b[0m\u001b[0;34m'y_train'\u001b[0m\u001b[0;34m)\u001b[0m\u001b[0;34m\u001b[0m\u001b[0;34m\u001b[0m\u001b[0m\n",
            "\u001b[0;32m/usr/local/lib/python3.10/dist-packages/matplotlib/pyplot.py\u001b[0m in \u001b[0;36mscatter\u001b[0;34m(x, y, s, c, marker, cmap, norm, vmin, vmax, alpha, linewidths, edgecolors, plotnonfinite, data, **kwargs)\u001b[0m\n\u001b[1;32m   2860\u001b[0m         \u001b[0mvmin\u001b[0m\u001b[0;34m=\u001b[0m\u001b[0;32mNone\u001b[0m\u001b[0;34m,\u001b[0m \u001b[0mvmax\u001b[0m\u001b[0;34m=\u001b[0m\u001b[0;32mNone\u001b[0m\u001b[0;34m,\u001b[0m \u001b[0malpha\u001b[0m\u001b[0;34m=\u001b[0m\u001b[0;32mNone\u001b[0m\u001b[0;34m,\u001b[0m \u001b[0mlinewidths\u001b[0m\u001b[0;34m=\u001b[0m\u001b[0;32mNone\u001b[0m\u001b[0;34m,\u001b[0m \u001b[0;34m*\u001b[0m\u001b[0;34m,\u001b[0m\u001b[0;34m\u001b[0m\u001b[0;34m\u001b[0m\u001b[0m\n\u001b[1;32m   2861\u001b[0m         edgecolors=None, plotnonfinite=False, data=None, **kwargs):\n\u001b[0;32m-> 2862\u001b[0;31m     __ret = gca().scatter(\n\u001b[0m\u001b[1;32m   2863\u001b[0m         \u001b[0mx\u001b[0m\u001b[0;34m,\u001b[0m \u001b[0my\u001b[0m\u001b[0;34m,\u001b[0m \u001b[0ms\u001b[0m\u001b[0;34m=\u001b[0m\u001b[0ms\u001b[0m\u001b[0;34m,\u001b[0m \u001b[0mc\u001b[0m\u001b[0;34m=\u001b[0m\u001b[0mc\u001b[0m\u001b[0;34m,\u001b[0m \u001b[0mmarker\u001b[0m\u001b[0;34m=\u001b[0m\u001b[0mmarker\u001b[0m\u001b[0;34m,\u001b[0m \u001b[0mcmap\u001b[0m\u001b[0;34m=\u001b[0m\u001b[0mcmap\u001b[0m\u001b[0;34m,\u001b[0m \u001b[0mnorm\u001b[0m\u001b[0;34m=\u001b[0m\u001b[0mnorm\u001b[0m\u001b[0;34m,\u001b[0m\u001b[0;34m\u001b[0m\u001b[0;34m\u001b[0m\u001b[0m\n\u001b[1;32m   2864\u001b[0m         \u001b[0mvmin\u001b[0m\u001b[0;34m=\u001b[0m\u001b[0mvmin\u001b[0m\u001b[0;34m,\u001b[0m \u001b[0mvmax\u001b[0m\u001b[0;34m=\u001b[0m\u001b[0mvmax\u001b[0m\u001b[0;34m,\u001b[0m \u001b[0malpha\u001b[0m\u001b[0;34m=\u001b[0m\u001b[0malpha\u001b[0m\u001b[0;34m,\u001b[0m \u001b[0mlinewidths\u001b[0m\u001b[0;34m=\u001b[0m\u001b[0mlinewidths\u001b[0m\u001b[0;34m,\u001b[0m\u001b[0;34m\u001b[0m\u001b[0;34m\u001b[0m\u001b[0m\n",
            "\u001b[0;32m/usr/local/lib/python3.10/dist-packages/matplotlib/__init__.py\u001b[0m in \u001b[0;36minner\u001b[0;34m(ax, data, *args, **kwargs)\u001b[0m\n\u001b[1;32m   1440\u001b[0m     \u001b[0;32mdef\u001b[0m \u001b[0minner\u001b[0m\u001b[0;34m(\u001b[0m\u001b[0max\u001b[0m\u001b[0;34m,\u001b[0m \u001b[0;34m*\u001b[0m\u001b[0margs\u001b[0m\u001b[0;34m,\u001b[0m \u001b[0mdata\u001b[0m\u001b[0;34m=\u001b[0m\u001b[0;32mNone\u001b[0m\u001b[0;34m,\u001b[0m \u001b[0;34m**\u001b[0m\u001b[0mkwargs\u001b[0m\u001b[0;34m)\u001b[0m\u001b[0;34m:\u001b[0m\u001b[0;34m\u001b[0m\u001b[0;34m\u001b[0m\u001b[0m\n\u001b[1;32m   1441\u001b[0m         \u001b[0;32mif\u001b[0m \u001b[0mdata\u001b[0m \u001b[0;32mis\u001b[0m \u001b[0;32mNone\u001b[0m\u001b[0;34m:\u001b[0m\u001b[0;34m\u001b[0m\u001b[0;34m\u001b[0m\u001b[0m\n\u001b[0;32m-> 1442\u001b[0;31m             \u001b[0;32mreturn\u001b[0m \u001b[0mfunc\u001b[0m\u001b[0;34m(\u001b[0m\u001b[0max\u001b[0m\u001b[0;34m,\u001b[0m \u001b[0;34m*\u001b[0m\u001b[0mmap\u001b[0m\u001b[0;34m(\u001b[0m\u001b[0msanitize_sequence\u001b[0m\u001b[0;34m,\u001b[0m \u001b[0margs\u001b[0m\u001b[0;34m)\u001b[0m\u001b[0;34m,\u001b[0m \u001b[0;34m**\u001b[0m\u001b[0mkwargs\u001b[0m\u001b[0;34m)\u001b[0m\u001b[0;34m\u001b[0m\u001b[0;34m\u001b[0m\u001b[0m\n\u001b[0m\u001b[1;32m   1443\u001b[0m \u001b[0;34m\u001b[0m\u001b[0m\n\u001b[1;32m   1444\u001b[0m         \u001b[0mbound\u001b[0m \u001b[0;34m=\u001b[0m \u001b[0mnew_sig\u001b[0m\u001b[0;34m.\u001b[0m\u001b[0mbind\u001b[0m\u001b[0;34m(\u001b[0m\u001b[0max\u001b[0m\u001b[0;34m,\u001b[0m \u001b[0;34m*\u001b[0m\u001b[0margs\u001b[0m\u001b[0;34m,\u001b[0m \u001b[0;34m**\u001b[0m\u001b[0mkwargs\u001b[0m\u001b[0;34m)\u001b[0m\u001b[0;34m\u001b[0m\u001b[0;34m\u001b[0m\u001b[0m\n",
            "\u001b[0;32m/usr/local/lib/python3.10/dist-packages/matplotlib/axes/_axes.py\u001b[0m in \u001b[0;36mscatter\u001b[0;34m(self, x, y, s, c, marker, cmap, norm, vmin, vmax, alpha, linewidths, edgecolors, plotnonfinite, **kwargs)\u001b[0m\n\u001b[1;32m   4582\u001b[0m         \u001b[0my\u001b[0m \u001b[0;34m=\u001b[0m \u001b[0mnp\u001b[0m\u001b[0;34m.\u001b[0m\u001b[0mma\u001b[0m\u001b[0;34m.\u001b[0m\u001b[0mravel\u001b[0m\u001b[0;34m(\u001b[0m\u001b[0my\u001b[0m\u001b[0;34m)\u001b[0m\u001b[0;34m\u001b[0m\u001b[0;34m\u001b[0m\u001b[0m\n\u001b[1;32m   4583\u001b[0m         \u001b[0;32mif\u001b[0m \u001b[0mx\u001b[0m\u001b[0;34m.\u001b[0m\u001b[0msize\u001b[0m \u001b[0;34m!=\u001b[0m \u001b[0my\u001b[0m\u001b[0;34m.\u001b[0m\u001b[0msize\u001b[0m\u001b[0;34m:\u001b[0m\u001b[0;34m\u001b[0m\u001b[0;34m\u001b[0m\u001b[0m\n\u001b[0;32m-> 4584\u001b[0;31m             \u001b[0;32mraise\u001b[0m \u001b[0mValueError\u001b[0m\u001b[0;34m(\u001b[0m\u001b[0;34m\"x and y must be the same size\"\u001b[0m\u001b[0;34m)\u001b[0m\u001b[0;34m\u001b[0m\u001b[0;34m\u001b[0m\u001b[0m\n\u001b[0m\u001b[1;32m   4585\u001b[0m \u001b[0;34m\u001b[0m\u001b[0m\n\u001b[1;32m   4586\u001b[0m         \u001b[0;32mif\u001b[0m \u001b[0ms\u001b[0m \u001b[0;32mis\u001b[0m \u001b[0;32mNone\u001b[0m\u001b[0;34m:\u001b[0m\u001b[0;34m\u001b[0m\u001b[0;34m\u001b[0m\u001b[0m\n",
            "\u001b[0;31mValueError\u001b[0m: x and y must be the same size"
          ]
        },
        {
          "output_type": "display_data",
          "data": {
            "text/plain": [
              "<Figure size 640x480 with 1 Axes>"
            ],
            "image/png": "[encoded data removed]"
          },
          "metadata": {}
        }
      ]
    }
  ]
}